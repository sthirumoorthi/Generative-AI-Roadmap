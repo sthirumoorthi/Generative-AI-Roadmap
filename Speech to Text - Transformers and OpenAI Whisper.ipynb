{
 "cells": [
  {
   "cell_type": "markdown",
   "id": "b2b44644",
   "metadata": {},
   "source": [
    "## Transformer Model"
   ]
  },
  {
   "cell_type": "code",
   "execution_count": null,
   "id": "87269e21",
   "metadata": {},
   "outputs": [],
   "source": [
    "! pip install -q transformers moviepy"
   ]
  },
  {
   "cell_type": "code",
   "execution_count": null,
   "id": "89af5050",
   "metadata": {},
   "outputs": [],
   "source": [
    "import librosa\n",
    "import torch\n",
    "import moviepy.editor as mp\n",
    "from transformers import Wav2Vec2ForCTC, Wav2Vec2Tokenizer"
   ]
  },
  {
   "cell_type": "code",
   "execution_count": null,
   "id": "214e3008",
   "metadata": {},
   "outputs": [],
   "source": [
    "# Load the video using MoviePy\n",
    "clip = mp.VideoFileClip(\"sample.mp4\")\n",
    "\n",
    "# Separate audio track from the video\n",
    "audio = clip.audio.write_audiofile(\"temp_audio.wav\")\n"
   ]
  },
  {
   "cell_type": "code",
   "execution_count": null,
   "id": "cb4d590c",
   "metadata": {},
   "outputs": [],
   "source": [
    "#load pre-trained model and tokenizer\n",
    "tokenizer = Wav2Vec2Tokenizer.from_pretrained(\"facebook/wav2vec2-base-960h\")\n",
    "model = Wav2Vec2ForCTC.from_pretrained(\"facebook/wav2vec2-base-960h\")"
   ]
  },
  {
   "cell_type": "code",
   "execution_count": null,
   "id": "fadcea92",
   "metadata": {},
   "outputs": [],
   "source": [
    "#load any audio file of your choice\n",
    "speech, rate = librosa.load(\"temp_audio.wav\",sr=16000)"
   ]
  },
  {
   "cell_type": "code",
   "execution_count": null,
   "id": "b1233b70",
   "metadata": {},
   "outputs": [],
   "source": [
    "import IPython.display as display\n",
    "display.Audio(\"temp_audio.wav\", autoplay=True)"
   ]
  },
  {
   "cell_type": "code",
   "execution_count": null,
   "id": "5f34ed8d",
   "metadata": {},
   "outputs": [],
   "source": [
    "input_values = tokenizer(speech, return_tensors = 'pt').input_values"
   ]
  },
  {
   "cell_type": "code",
   "execution_count": null,
   "id": "0570a7c9",
   "metadata": {},
   "outputs": [],
   "source": [
    "input_values"
   ]
  },
  {
   "cell_type": "code",
   "execution_count": null,
   "id": "6c95aecb",
   "metadata": {},
   "outputs": [],
   "source": [
    "#Store logits (non-normalized predictions)\n",
    "logits = model(input_values).logits"
   ]
  },
  {
   "cell_type": "code",
   "execution_count": null,
   "id": "6e600069",
   "metadata": {},
   "outputs": [],
   "source": [
    "logits"
   ]
  },
  {
   "cell_type": "code",
   "execution_count": null,
   "id": "54ba3356",
   "metadata": {},
   "outputs": [],
   "source": [
    "#Store predicted id's\n",
    "predicted_ids = torch.argmax(logits, dim =-1)"
   ]
  },
  {
   "cell_type": "code",
   "execution_count": null,
   "id": "dff7a578",
   "metadata": {},
   "outputs": [],
   "source": [
    "#decode the audio to generate text\n",
    "transcriptions = tokenizer.decode(predicted_ids[0])"
   ]
  },
  {
   "cell_type": "code",
   "execution_count": null,
   "id": "489c0298",
   "metadata": {},
   "outputs": [],
   "source": [
    "print(transcriptions)"
   ]
  },
  {
   "cell_type": "markdown",
   "id": "83d3ff58",
   "metadata": {},
   "source": [
    "## OpenAI Whisper"
   ]
  },
  {
   "cell_type": "code",
   "execution_count": null,
   "id": "7ebb33b1",
   "metadata": {},
   "outputs": [],
   "source": [
    "!pip install git+https://github.com/openai/whisper.git "
   ]
  },
  {
   "cell_type": "code",
   "execution_count": null,
   "id": "d991c49f",
   "metadata": {},
   "outputs": [],
   "source": [
    "# import\n",
    "import whisper\n",
    "\n",
    "model = whisper.load_model(\"base\")\n",
    "\n",
    "# load audio and pad/trim it to fit 30 seconds\n",
    "audio = whisper.load_audio(\"Pipeline.mp4\")\n",
    "audio = whisper.pad_or_trim(audio)\n",
    "\n",
    "# make log-Mel spectrogram and move to the same device as the model\n",
    "mel = whisper.log_mel_spectrogram(audio).to(model.device)\n",
    "\n",
    "# detect the spoken language\n",
    "_, probs = model.detect_language(mel)\n",
    "print(f\"Detected language: {max(probs, key=probs.get)}\")\n",
    "\n",
    "# decode the audio\n",
    "options = whisper.DecodingOptions()\n",
    "result = whisper.decode(model, mel, options)\n",
    "\n",
    "# print the recognized text\n",
    "print(result.text)"
   ]
  },
  {
   "cell_type": "code",
   "execution_count": null,
   "id": "bf101707",
   "metadata": {},
   "outputs": [],
   "source": [
    "import whisper\n",
    "import glob, os\n",
    "\n",
    "# Define chunk duration in seconds (adjust as needed)\n",
    "chunk_duration = 30\n",
    "\n",
    "def process_large_video(video_path, model_name=\"base\"):\n",
    "    \"\"\"\n",
    "    Processes a large video by splitting it into chunks and performing speech recognition using Whisper.\n",
    "    Args:\n",
    "        video_path: Path to the large video file.\n",
    "        model_name: Name of the Whisper model to use (default: base).\n",
    "    Returns:\n",
    "        str: The combined transcribed text from all chunks.\n",
    "    \"\"\"\n",
    "    \n",
    "    model = whisper.load_model(model_name)\n",
    "    total_text = \"\"\n",
    "    \n",
    "    # Use ffmpeg to split video into chunks\n",
    "    import subprocess\n",
    "    subprocess.run(f\"ffmpeg -i {video_path} -f segment -segment_time {chunk_duration} -c copy output_%03d.mp4\".split())\n",
    "    \n",
    "    # Process each video chunk\n",
    "    for chunk_file in sorted(glob.glob(\"output_*.mp4\")):\n",
    "        audio = whisper.load_audio(chunk_file)\n",
    "        audio = whisper.pad_or_trim(audio)\n",
    "        \n",
    "        mel = whisper.log_mel_spectrogram(audio).to(model.device)\n",
    "        options = whisper.DecodingOptions()\n",
    "        \n",
    "        result = whisper.decode(model, mel, options)\n",
    "        total_text += result.text + \"\\n\"  # Add newline for separation\n",
    "        \n",
    "        # Clean up processed chunk (optional)\n",
    "        os.remove(chunk_file)\n",
    "    return total_text"
   ]
  },
  {
   "cell_type": "code",
   "execution_count": null,
   "id": "3df5c4a6",
   "metadata": {},
   "outputs": [],
   "source": [
    "# Example usage\n",
    "video_path = \"Pipeline.mp4\"\n",
    "transcribed_text = process_large_video(video_path)\n",
    "print(transcribed_text)"
   ]
  },
  {
   "cell_type": "code",
   "execution_count": null,
   "id": "f89da3d6",
   "metadata": {},
   "outputs": [],
   "source": []
  },
  {
   "cell_type": "code",
   "execution_count": null,
   "id": "f664b431",
   "metadata": {},
   "outputs": [],
   "source": []
  },
  {
   "cell_type": "code",
   "execution_count": null,
   "id": "e9498d4d",
   "metadata": {},
   "outputs": [],
   "source": []
  },
  {
   "cell_type": "code",
   "execution_count": null,
   "id": "edc5e61f",
   "metadata": {},
   "outputs": [],
   "source": []
  }
 ],
 "metadata": {
  "kernelspec": {
   "display_name": "Python 3 (ipykernel)",
   "language": "python",
   "name": "python3"
  },
  "language_info": {
   "codemirror_mode": {
    "name": "ipython",
    "version": 3
   },
   "file_extension": ".py",
   "mimetype": "text/x-python",
   "name": "python",
   "nbconvert_exporter": "python",
   "pygments_lexer": "ipython3",
   "version": "3.11.5"
  }
 },
 "nbformat": 4,
 "nbformat_minor": 5
}
